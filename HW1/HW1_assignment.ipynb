{
  "nbformat": 4,
  "nbformat_minor": 0,
  "metadata": {
    "kernelspec": {
      "display_name": "Python 3",
      "language": "python",
      "name": "python3"
    },
    "language_info": {
      "codemirror_mode": {
        "name": "ipython",
        "version": 3
      },
      "file_extension": ".py",
      "mimetype": "text/x-python",
      "name": "python",
      "nbconvert_exporter": "python",
      "pygments_lexer": "ipython3",
      "version": "3.7.3"
    },
    "varInspector": {
      "cols": {
        "lenName": 16,
        "lenType": 16,
        "lenVar": 40
      },
      "kernels_config": {
        "python": {
          "delete_cmd_postfix": "",
          "delete_cmd_prefix": "del ",
          "library": "var_list.py",
          "varRefreshCmd": "print(var_dic_list())"
        },
        "r": {
          "delete_cmd_postfix": ") ",
          "delete_cmd_prefix": "rm(",
          "library": "var_list.r",
          "varRefreshCmd": "cat(var_dic_list()) "
        }
      },
      "types_to_exclude": [
        "module",
        "function",
        "builtin_function_or_method",
        "instance",
        "_Feature"
      ],
      "window_display": false
    },
    "colab": {
      "name": "HW1_assignment.ipynb",
      "provenance": [],
      "collapsed_sections": [
        "UfPiqmGZMzVj",
        "4F_eXaoHMzVn",
        "yjzqCfsyMzVp",
        "lvoRdCoXMzVr"
      ],
      "toc_visible": true
    }
  },
  "cells": [
    {
      "cell_type": "markdown",
      "metadata": {
        "id": "blmuOjLYMzVY"
      },
      "source": [
        "# ORIE 5355/INFO 5370 HW 1: Survey Weighting"
      ]
    },
    {
      "cell_type": "markdown",
      "metadata": {
        "id": "MF6AVQbfMzVd"
      },
      "source": [
        " - Name: Ting-Wei Chiang\n",
        " - Net-id: tc695\n",
        " - Date: Sep 16th, 2021\n",
        " - Late days used for this assignment: 0\n",
        " - Total late days used (counting this assignment): 0\n",
        " - People with whom you discussed this assignment: Yujie Shao (ys993) Lu, Ting-Wei (tl574)"
      ]
    },
    {
      "cell_type": "markdown",
      "metadata": {
        "ExecuteTime": {
          "end_time": "2021-09-01T19:23:05.646804Z",
          "start_time": "2021-09-01T19:23:05.610804Z"
        },
        "id": "_3mU7H7qMzVe"
      },
      "source": [
        "After you finish the homework, please complete the following (short, anonymous) post-homework survey: https://forms.gle/spVRAkxcqcDuxkuY6"
      ]
    },
    {
      "cell_type": "markdown",
      "metadata": {
        "id": "bs8F2nFaMzVf"
      },
      "source": [
        "We have marked questions in <font color='blue'> blue </font>. Please put answers in black (do not change colors). You'll want to write text answers in \"markdown\" mode instead of code. In Jupyter notebook, you can go to Cell > Cell Type > Markdown, from the menu. Please carefully read the late days policy and grading procedure [here](https://orie5355.github.io/Fall_2021/assignments/). "
      ]
    },
    {
      "cell_type": "markdown",
      "metadata": {
        "id": "06fVdsKLMzVf"
      },
      "source": [
        "# Conceptual component"
      ]
    },
    {
      "cell_type": "markdown",
      "metadata": {
        "id": "DFSBHL1FMzVf"
      },
      "source": [
        "### 1) Reading"
      ]
    },
    {
      "cell_type": "markdown",
      "metadata": {
        "id": "47xVRCcyMzVg"
      },
      "source": [
        "<font color='blue'> Please read Sections 3 and 4 (pages 6-13) here: https://www.nber.org/system/files/working_papers/w20830/w20830.pdf, and answer the following questions."
      ]
    },
    {
      "cell_type": "markdown",
      "metadata": {
        "id": "HS0Ky0iyMzVg"
      },
      "source": [
        "<font color='blue'> Please summarize the sections in no more than two sentences. "
      ]
    },
    {
      "cell_type": "markdown",
      "metadata": {
        "id": "juZTF9ePISHk"
      },
      "source": [
        "Observable reputation measures of seller quality (e.g., percent positive, feedback score, and eBay Top Rated Seller certification) are biased and highly skewed. To solve this, the authors considered the slient experiences without any feedback to be bad experiences and constructed an unobservable measure \"effective percent positive,\" which is the number of positive feedback divided by total transactions."
      ]
    },
    {
      "cell_type": "markdown",
      "metadata": {
        "id": "d1ppyBFAMzVi"
      },
      "source": [
        "<font color='blue'> Do you think it's a problem that most ratings are positive? If so, why? Answer in no more than three sentences. Please incorporate concepts discussed in class in your answer. "
      ]
    },
    {
      "cell_type": "markdown",
      "metadata": {
        "id": "lVb4l8FdLiRK"
      },
      "source": [
        "Yes, it is a problem on eBay since if all ratings are similarly high, it provided no additional information on seller quality to shoppers, and therefore the construct (how likely you are to have a good transaction experience) and the measurement (seller ratings) no longer aligns. It also causes additional problems on trust: if a buyer have a single bad experience interacting with a positive-rated seller, they might later assume all sellers on the platform are bad, leading to a reputational externality across sellers and a crisis of trust on the platform."
      ]
    },
    {
      "cell_type": "markdown",
      "metadata": {
        "id": "UfPiqmGZMzVj"
      },
      "source": [
        "### 2) Personal reflection"
      ]
    },
    {
      "cell_type": "markdown",
      "metadata": {
        "id": "xMUYLTsKMzVk"
      },
      "source": [
        "<font color='blue'> Think back to a time that you trained a model on data from people or gathered opinions via a survey (an informal one is fine). If you have not done that before, you may answer these questions about an article in the news that reported on public opinions or a model that you think might be in deployment at a company or organization with which you interact (for example, Amazon, google maps, etc)"
      ]
    },
    {
      "cell_type": "markdown",
      "metadata": {
        "id": "2cwOe47nMzVk"
      },
      "source": [
        "<font color='blue'> Briefly summarize the scenario in no more than two sentences. "
      ]
    },
    {
      "cell_type": "markdown",
      "metadata": {
        "id": "yp87wdzWrWsB"
      },
      "source": [
        "I gathered people's opinions on street performers in NYC via a Google Forms survey for a user research study."
      ]
    },
    {
      "cell_type": "markdown",
      "metadata": {
        "id": "36RKYPEeMzVk"
      },
      "source": [
        "<font color='blue'> What was the construct that you cared about/wanted to measure? What was the measurement (numerical data)? In what ways did the measurement not match the construct you cared about? Answer in no more than 4 sentences.  "
      ]
    },
    {
      "cell_type": "markdown",
      "metadata": {
        "id": "IqhF1Y4TtBtm"
      },
      "source": [
        "The construct was \"how much money people usually donate to street performers.\" The measurement was in different ranges of dollars: never, less than \\$1, \\$1-\\$10, \\$10-\\$20, or more than \\$20. Instead of recalling on every experience they have interacted with street performers, people tend to only remember the few times when they actually dontated to street performers, and answer the survey question based on the highest number of donation they have given.\n",
        "\n",
        "\n"
      ]
    },
    {
      "cell_type": "markdown",
      "metadata": {
        "id": "W1w9ojKCMzVl"
      },
      "source": [
        "<font color='blue'> What selection biases/differential non-response issues occurred and how did it affect your measurement? (If your answer is \"None,\" explain exactly why you believe the assumptions discussed in class were met). Answer in no more than 3 sentences. "
      ]
    },
    {
      "cell_type": "markdown",
      "metadata": {
        "id": "1ypt-3Zdw63E"
      },
      "source": [
        "We conducted the survey with people who were sitting at Times Square, near where the street performers gathered. Those who were at the spot and responded us in person have a higher tendency to have engaged with street performers or be interested in this topic. This leads to an over-estimate of our measurement.\n"
      ]
    },
    {
      "cell_type": "markdown",
      "metadata": {
        "id": "IeGWZvM6MzVm"
      },
      "source": [
        "<font color='blue'> Given what we have learned in class so far, what would you do differently if faced with the same scenario again? Answer in no more than 3 sentences. "
      ]
    },
    {
      "cell_type": "markdown",
      "metadata": {
        "id": "wST8hwAkzjT3"
      },
      "source": [
        "I would perform stratified sampling to control the demographics of the respondents and their familiarity with street performers. I would also move the sampling process online, or sample in multiple locations in NYC to reduce the variance of the population sampled."
      ]
    },
    {
      "cell_type": "markdown",
      "metadata": {
        "id": "1R8de8A3MzVm"
      },
      "source": [
        "# Programming component"
      ]
    },
    {
      "cell_type": "markdown",
      "metadata": {
        "id": "FzSYsJRiMzVm"
      },
      "source": [
        "<font color='blue'> In this part of the homework, we provide you with data from a poll in Florida before the 2016 Presidential election in the United States. We also provide you with (one pollster's) estimates of who will vote in the 2016 election, made before the election. You will use this data and apply the weighting techniques covered in class."
      ]
    },
    {
      "cell_type": "markdown",
      "metadata": {
        "id": "4F_eXaoHMzVn"
      },
      "source": [
        "## Preliminaries to load packages and data"
      ]
    },
    {
      "cell_type": "code",
      "metadata": {
        "ExecuteTime": {
          "end_time": "2021-09-01T20:57:32.311779Z",
          "start_time": "2021-09-01T20:57:32.270775Z"
        },
        "id": "xRGITveLMzVn"
      },
      "source": [
        "import pandas as pd\n",
        "import numpy as np"
      ],
      "execution_count": 1,
      "outputs": []
    },
    {
      "cell_type": "code",
      "metadata": {
        "ExecuteTime": {
          "end_time": "2021-09-01T20:57:32.581776Z",
          "start_time": "2021-09-01T20:57:32.454782Z"
        },
        "colab": {
          "base_uri": "https://localhost:8080/",
          "height": 0
        },
        "id": "DT543fpcMzVo",
        "outputId": "e1ebb91f-a8b0-45fb-bf17-fe639b17a554"
      },
      "source": [
        "dfpoll = pd.read_csv('polling_data_hw1.csv') # raw polling data\n",
        "dfpoll.head()"
      ],
      "execution_count": 2,
      "outputs": [
        {
          "output_type": "execute_result",
          "data": {
            "text/html": [
              "<div>\n",
              "<style scoped>\n",
              "    .dataframe tbody tr th:only-of-type {\n",
              "        vertical-align: middle;\n",
              "    }\n",
              "\n",
              "    .dataframe tbody tr th {\n",
              "        vertical-align: top;\n",
              "    }\n",
              "\n",
              "    .dataframe thead th {\n",
              "        text-align: right;\n",
              "    }\n",
              "</style>\n",
              "<table border=\"1\" class=\"dataframe\">\n",
              "  <thead>\n",
              "    <tr style=\"text-align: right;\">\n",
              "      <th></th>\n",
              "      <th>candidate</th>\n",
              "      <th>age</th>\n",
              "      <th>gender</th>\n",
              "      <th>party</th>\n",
              "      <th>race</th>\n",
              "      <th>education</th>\n",
              "    </tr>\n",
              "  </thead>\n",
              "  <tbody>\n",
              "    <tr>\n",
              "      <th>0</th>\n",
              "      <td>Someone else</td>\n",
              "      <td>30-44</td>\n",
              "      <td>Male</td>\n",
              "      <td>Independent</td>\n",
              "      <td>White</td>\n",
              "      <td>College</td>\n",
              "    </tr>\n",
              "    <tr>\n",
              "      <th>1</th>\n",
              "      <td>Hillary Clinton</td>\n",
              "      <td>45-64</td>\n",
              "      <td>Male</td>\n",
              "      <td>Republican</td>\n",
              "      <td>Hispanic</td>\n",
              "      <td>College</td>\n",
              "    </tr>\n",
              "    <tr>\n",
              "      <th>2</th>\n",
              "      <td>Hillary Clinton</td>\n",
              "      <td>30-44</td>\n",
              "      <td>Male</td>\n",
              "      <td>Independent</td>\n",
              "      <td>Hispanic</td>\n",
              "      <td>College</td>\n",
              "    </tr>\n",
              "    <tr>\n",
              "      <th>3</th>\n",
              "      <td>Hillary Clinton</td>\n",
              "      <td>65+</td>\n",
              "      <td>Female</td>\n",
              "      <td>Democrat</td>\n",
              "      <td>White</td>\n",
              "      <td>College</td>\n",
              "    </tr>\n",
              "    <tr>\n",
              "      <th>4</th>\n",
              "      <td>Donald Trump</td>\n",
              "      <td>65+</td>\n",
              "      <td>Female</td>\n",
              "      <td>Republican</td>\n",
              "      <td>White</td>\n",
              "      <td>High School</td>\n",
              "    </tr>\n",
              "  </tbody>\n",
              "</table>\n",
              "</div>"
            ],
            "text/plain": [
              "         candidate    age  gender        party      race    education\n",
              "0     Someone else  30-44    Male  Independent     White      College\n",
              "1  Hillary Clinton  45-64    Male   Republican  Hispanic      College\n",
              "2  Hillary Clinton  30-44    Male  Independent  Hispanic      College\n",
              "3  Hillary Clinton    65+  Female     Democrat     White      College\n",
              "4     Donald Trump    65+  Female   Republican     White  High School"
            ]
          },
          "metadata": {},
          "execution_count": 2
        }
      ]
    },
    {
      "cell_type": "code",
      "metadata": {
        "ExecuteTime": {
          "end_time": "2021-09-01T20:57:32.658773Z",
          "start_time": "2021-09-01T20:57:32.605777Z"
        },
        "colab": {
          "base_uri": "https://localhost:8080/",
          "height": 0
        },
        "id": "OO0lIE3UMzVo",
        "outputId": "72f1f5f2-ebd0-4bac-88f9-55990c31f7f3"
      },
      "source": [
        "dfdemographic = pd.read_csv('florida_proportions_hw1.csv') # proportions of population\n",
        "dfdemographic.head()"
      ],
      "execution_count": 3,
      "outputs": [
        {
          "output_type": "execute_result",
          "data": {
            "text/html": [
              "<div>\n",
              "<style scoped>\n",
              "    .dataframe tbody tr th:only-of-type {\n",
              "        vertical-align: middle;\n",
              "    }\n",
              "\n",
              "    .dataframe tbody tr th {\n",
              "        vertical-align: top;\n",
              "    }\n",
              "\n",
              "    .dataframe thead th {\n",
              "        text-align: right;\n",
              "    }\n",
              "</style>\n",
              "<table border=\"1\" class=\"dataframe\">\n",
              "  <thead>\n",
              "    <tr style=\"text-align: right;\">\n",
              "      <th></th>\n",
              "      <th>Electoral_Proportion</th>\n",
              "      <th>Demographic_Type_1</th>\n",
              "      <th>Demographic_Type_2</th>\n",
              "      <th>Demographic_1</th>\n",
              "      <th>Demographic_2</th>\n",
              "    </tr>\n",
              "  </thead>\n",
              "  <tbody>\n",
              "    <tr>\n",
              "      <th>0</th>\n",
              "      <td>0.387927</td>\n",
              "      <td>party</td>\n",
              "      <td>NaN</td>\n",
              "      <td>Democrat</td>\n",
              "      <td>NaN</td>\n",
              "    </tr>\n",
              "    <tr>\n",
              "      <th>1</th>\n",
              "      <td>0.398788</td>\n",
              "      <td>party</td>\n",
              "      <td>NaN</td>\n",
              "      <td>Republican</td>\n",
              "      <td>NaN</td>\n",
              "    </tr>\n",
              "    <tr>\n",
              "      <th>2</th>\n",
              "      <td>0.213285</td>\n",
              "      <td>party</td>\n",
              "      <td>NaN</td>\n",
              "      <td>Independent</td>\n",
              "      <td>NaN</td>\n",
              "    </tr>\n",
              "    <tr>\n",
              "      <th>3</th>\n",
              "      <td>0.445928</td>\n",
              "      <td>gender</td>\n",
              "      <td>NaN</td>\n",
              "      <td>Male</td>\n",
              "      <td>NaN</td>\n",
              "    </tr>\n",
              "    <tr>\n",
              "      <th>4</th>\n",
              "      <td>0.554072</td>\n",
              "      <td>gender</td>\n",
              "      <td>NaN</td>\n",
              "      <td>Female</td>\n",
              "      <td>NaN</td>\n",
              "    </tr>\n",
              "  </tbody>\n",
              "</table>\n",
              "</div>"
            ],
            "text/plain": [
              "   Electoral_Proportion Demographic_Type_1  ... Demographic_1 Demographic_2\n",
              "0              0.387927              party  ...      Democrat           NaN\n",
              "1              0.398788              party  ...    Republican           NaN\n",
              "2              0.213285              party  ...   Independent           NaN\n",
              "3              0.445928             gender  ...          Male           NaN\n",
              "4              0.554072             gender  ...        Female           NaN\n",
              "\n",
              "[5 rows x 5 columns]"
            ]
          },
          "metadata": {},
          "execution_count": 3
        }
      ]
    },
    {
      "cell_type": "markdown",
      "metadata": {
        "id": "kOx3YNL8MzVp"
      },
      "source": [
        "dfdemographic contains estimates of likely voters in Florida in 2016. When Demographic_Type_2 is NaN, the row refers to just the marginal population percentage of the group in Demographic_1 of type Demographic_Type_1. When it is not NaN, the row has the joint distribution of the corresponding demographic groups."
      ]
    },
    {
      "cell_type": "markdown",
      "metadata": {
        "id": "yjzqCfsyMzVp"
      },
      "source": [
        "## Part A: Raw visualization"
      ]
    },
    {
      "cell_type": "markdown",
      "metadata": {
        "id": "yD2V72-iMzVp"
      },
      "source": [
        "<font color='blue'> Here, we'll visualize whether the respondents in the poll match the likely voter estimates. Create a scatter-plot where each point represents one Demographic group (for example, party-Independent), where the X axis is the Electoral_Proportion in dfdemographic, and the Y axis is the proportion in dfpoll. "
      ]
    },
    {
      "cell_type": "code",
      "metadata": {
        "id": "GIvToP_eMzVq"
      },
      "source": [
        "# Replace \"Refused\" with NaNs, so that they are not included when calculating demographic proportions\n",
        "dfpoll = dfpoll.replace('Refused', np.nan)\n",
        "\n",
        "# Calculate proportion of each demographic group in poll data\n",
        "dfdemographic['Poll_Proportion'] = dfdemographic.apply(lambda row: \n",
        "                    dfpoll[row['Demographic_Type_1']].value_counts(normalize = True)[row['Demographic_1']] if type(row['Demographic_Type_2']) == float\n",
        "                    else dfpoll.value_counts([row['Demographic_Type_1'], row['Demographic_Type_2']], normalize=True)[(row['Demographic_1'], row['Demographic_2'])], \n",
        "                    axis=1)"
      ],
      "execution_count": 4,
      "outputs": []
    },
    {
      "cell_type": "code",
      "metadata": {
        "id": "acbL-1hEMzVq",
        "colab": {
          "base_uri": "https://localhost:8080/",
          "height": 422
        },
        "outputId": "723f9197-e3f4-48af-b9d5-2795a9d3910b"
      },
      "source": [
        "# Scatter Plot: Comparing demographic proportion for polls v.s. voter estimates (electoral)\n",
        "\n",
        "# 1. Demographic_Type_1 + Demographic_Type_2\n",
        "ax = dfdemographic.plot.scatter('Electoral_Proportion', 'Poll_Proportion', figsize=(6, 6))\n",
        "ax.set_xlim([0, 1])\n",
        "ax.set_ylim([0, 1])\n",
        "ax.set_title(\"Proportion of polls v.s. voter estimates\")"
      ],
      "execution_count": 5,
      "outputs": [
        {
          "output_type": "execute_result",
          "data": {
            "text/plain": [
              "Text(0.5, 1.0, 'Proportion of polls v.s. voter estimates')"
            ]
          },
          "metadata": {},
          "execution_count": 5
        },
        {
          "output_type": "display_data",
          "data": {
            "image/png": "[encoded data removed]",
            "text/plain": [
              "<Figure size 432x432 with 1 Axes>"
            ]
          },
          "metadata": {
            "needs_background": "light"
          }
        }
      ]
    },
    {
      "cell_type": "code",
      "metadata": {
        "id": "VQ9xXuPeMzVq",
        "colab": {
          "base_uri": "https://localhost:8080/",
          "height": 422
        },
        "outputId": "78b9b425-f53b-4735-9641-1dfc6aa05015"
      },
      "source": [
        "# 2. Demographic_Type_1 only\n",
        "\n",
        "dfdemographic_type1 = dfdemographic[dfdemographic['Demographic_Type_2'].isna()]\n",
        "\n",
        "ax = dfdemographic_type1.plot.scatter('Electoral_Proportion', 'Poll_Proportion', figsize=(6, 6))\n",
        "ax.set_xlim([0, 1])\n",
        "ax.set_ylim([0, 1])\n",
        "ax.set_title(\"Proportion of polls v.s. voter estimates\")\n",
        "for idx, row in dfdemographic_type1.iterrows():\n",
        "    # Add text annotations to each data point\n",
        "    ax.text(row['Electoral_Proportion'], row['Poll_Proportion'], str(row['Demographic_Type_1'] + '-' + row['Demographic_1']))  \n",
        "\n",
        "# Add lines to help understand which demographic groups are over-represented or under-represented\n",
        "ax.plot((0.0, 1.0), (0.0, 1.0), linestyle='-', color='gray', alpha=0.3)\n",
        "ax.plot((0.0, 0.9), (0.1, 1.0), linestyle='--', color='gray', alpha=0.1)\n",
        "ax.plot((0.1, 1.0), (0.0, 0.9), linestyle='--', color='gray', alpha=0.1)"
      ],
      "execution_count": 6,
      "outputs": [
        {
          "output_type": "execute_result",
          "data": {
            "text/plain": [
              "[<matplotlib.lines.Line2D at 0x7ff4711b7750>]"
            ]
          },
          "metadata": {},
          "execution_count": 6
        },
        {
          "output_type": "display_data",
          "data": {
            "image/png": "[encoded data removed]",
            "text/plain": [
              "<Figure size 432x432 with 1 Axes>"
            ]
          },
          "metadata": {
            "needs_background": "light"
          }
        }
      ]
    },
    {
      "cell_type": "markdown",
      "metadata": {
        "id": "UCb1MHSIMzVq"
      },
      "source": [
        "<font color='blue'>Which group is most over-represented? Most under-represented?</font>"
      ]
    },
    {
      "cell_type": "markdown",
      "metadata": {
        "id": "qorR-cLyMzVq"
      },
      "source": [
        "From the above graph and the below tables, we can see that demographic group \"party-Independent\" is the most over-represented, with 35.6% in polls but 21.3% in voter estimates. Groups \"education-College\" and \"age-18-29\" are also over-represented, with the proportion difference above 10%. \n",
        "\n",
        "Group \"education-High School\" is the most under-represented, with only 20% in polls but 37.4% in voter estimates. Group \"party-Republican\" is also under-represented by around 11%."
      ]
    },
    {
      "cell_type": "code",
      "metadata": {
        "id": "vSkA7457MzVr"
      },
      "source": [
        "# Calculate the differences between poll proportion and electoral proportion\n",
        "dfdemographic['Proportion_Diff'] = dfdemographic['Poll_Proportion'] - dfdemographic['Electoral_Proportion']\n",
        "dfdemographic_type1 = dfdemographic[dfdemographic['Demographic_Type_2'].isna()]"
      ],
      "execution_count": 7,
      "outputs": []
    },
    {
      "cell_type": "code",
      "metadata": {
        "id": "PAt6_KpMMzVr",
        "colab": {
          "base_uri": "https://localhost:8080/",
          "height": 162
        },
        "outputId": "110ce4c2-df83-448d-f611-e198325f2f13"
      },
      "source": [
        "# Over-represented groups\n",
        "dfdemographic_type1[dfdemographic_type1['Proportion_Diff'] > 0.1].sort_values('Proportion_Diff', ascending=False)"
      ],
      "execution_count": 8,
      "outputs": [
        {
          "output_type": "execute_result",
          "data": {
            "text/html": [
              "<div>\n",
              "<style scoped>\n",
              "    .dataframe tbody tr th:only-of-type {\n",
              "        vertical-align: middle;\n",
              "    }\n",
              "\n",
              "    .dataframe tbody tr th {\n",
              "        vertical-align: top;\n",
              "    }\n",
              "\n",
              "    .dataframe thead th {\n",
              "        text-align: right;\n",
              "    }\n",
              "</style>\n",
              "<table border=\"1\" class=\"dataframe\">\n",
              "  <thead>\n",
              "    <tr style=\"text-align: right;\">\n",
              "      <th></th>\n",
              "      <th>Electoral_Proportion</th>\n",
              "      <th>Demographic_Type_1</th>\n",
              "      <th>Demographic_Type_2</th>\n",
              "      <th>Demographic_1</th>\n",
              "      <th>Demographic_2</th>\n",
              "      <th>Poll_Proportion</th>\n",
              "      <th>Proportion_Diff</th>\n",
              "    </tr>\n",
              "  </thead>\n",
              "  <tbody>\n",
              "    <tr>\n",
              "      <th>2</th>\n",
              "      <td>0.213285</td>\n",
              "      <td>party</td>\n",
              "      <td>NaN</td>\n",
              "      <td>Independent</td>\n",
              "      <td>NaN</td>\n",
              "      <td>0.355713</td>\n",
              "      <td>0.142428</td>\n",
              "    </tr>\n",
              "    <tr>\n",
              "      <th>15</th>\n",
              "      <td>0.327006</td>\n",
              "      <td>education</td>\n",
              "      <td>NaN</td>\n",
              "      <td>College</td>\n",
              "      <td>NaN</td>\n",
              "      <td>0.442105</td>\n",
              "      <td>0.115099</td>\n",
              "    </tr>\n",
              "    <tr>\n",
              "      <th>5</th>\n",
              "      <td>0.109728</td>\n",
              "      <td>age</td>\n",
              "      <td>NaN</td>\n",
              "      <td>18-29</td>\n",
              "      <td>NaN</td>\n",
              "      <td>0.222607</td>\n",
              "      <td>0.112879</td>\n",
              "    </tr>\n",
              "  </tbody>\n",
              "</table>\n",
              "</div>"
            ],
            "text/plain": [
              "    Electoral_Proportion Demographic_Type_1  ... Poll_Proportion Proportion_Diff\n",
              "2               0.213285              party  ...        0.355713        0.142428\n",
              "15              0.327006          education  ...        0.442105        0.115099\n",
              "5               0.109728                age  ...        0.222607        0.112879\n",
              "\n",
              "[3 rows x 7 columns]"
            ]
          },
          "metadata": {},
          "execution_count": 8
        }
      ]
    },
    {
      "cell_type": "code",
      "metadata": {
        "id": "ZXHbxFj2MzVr",
        "colab": {
          "base_uri": "https://localhost:8080/",
          "height": 130
        },
        "outputId": "f8367e3f-5c97-488d-e2df-5b5db0187aa9"
      },
      "source": [
        "# Under-represented groups\n",
        "dfdemographic_type1[dfdemographic_type1['Proportion_Diff'] < -0.1].sort_values('Proportion_Diff')"
      ],
      "execution_count": 9,
      "outputs": [
        {
          "output_type": "execute_result",
          "data": {
            "text/html": [
              "<div>\n",
              "<style scoped>\n",
              "    .dataframe tbody tr th:only-of-type {\n",
              "        vertical-align: middle;\n",
              "    }\n",
              "\n",
              "    .dataframe tbody tr th {\n",
              "        vertical-align: top;\n",
              "    }\n",
              "\n",
              "    .dataframe thead th {\n",
              "        text-align: right;\n",
              "    }\n",
              "</style>\n",
              "<table border=\"1\" class=\"dataframe\">\n",
              "  <thead>\n",
              "    <tr style=\"text-align: right;\">\n",
              "      <th></th>\n",
              "      <th>Electoral_Proportion</th>\n",
              "      <th>Demographic_Type_1</th>\n",
              "      <th>Demographic_Type_2</th>\n",
              "      <th>Demographic_1</th>\n",
              "      <th>Demographic_2</th>\n",
              "      <th>Poll_Proportion</th>\n",
              "      <th>Proportion_Diff</th>\n",
              "    </tr>\n",
              "  </thead>\n",
              "  <tbody>\n",
              "    <tr>\n",
              "      <th>13</th>\n",
              "      <td>0.374316</td>\n",
              "      <td>education</td>\n",
              "      <td>NaN</td>\n",
              "      <td>High School</td>\n",
              "      <td>NaN</td>\n",
              "      <td>0.200000</td>\n",
              "      <td>-0.174316</td>\n",
              "    </tr>\n",
              "    <tr>\n",
              "      <th>1</th>\n",
              "      <td>0.398788</td>\n",
              "      <td>party</td>\n",
              "      <td>NaN</td>\n",
              "      <td>Republican</td>\n",
              "      <td>NaN</td>\n",
              "      <td>0.277974</td>\n",
              "      <td>-0.120814</td>\n",
              "    </tr>\n",
              "  </tbody>\n",
              "</table>\n",
              "</div>"
            ],
            "text/plain": [
              "    Electoral_Proportion Demographic_Type_1  ... Poll_Proportion Proportion_Diff\n",
              "13              0.374316          education  ...        0.200000       -0.174316\n",
              "1               0.398788              party  ...        0.277974       -0.120814\n",
              "\n",
              "[2 rows x 7 columns]"
            ]
          },
          "metadata": {},
          "execution_count": 9
        }
      ]
    },
    {
      "cell_type": "markdown",
      "metadata": {
        "id": "dMkq7pigMzVr"
      },
      "source": [
        "## Part B: Weighting"
      ]
    },
    {
      "cell_type": "markdown",
      "metadata": {
        "id": "lvoRdCoXMzVr"
      },
      "source": [
        "### 1) Raw average"
      ]
    },
    {
      "cell_type": "markdown",
      "metadata": {
        "id": "4wrL_GykMzVr"
      },
      "source": [
        "<font color='blue'> For now, we'll ignore people who answered anything but \"Hillary Clinton\" or \"Donald Trump.\" Below, report the \"raw polling average,\" the percentage of people \"Hillary Clinton\" divided by the number who answered either Hillary or Trump."
      ]
    },
    {
      "cell_type": "markdown",
      "metadata": {
        "id": "N9_RzB3wMzVr"
      },
      "source": [
        "Raw polling average = 0.545833"
      ]
    },
    {
      "cell_type": "code",
      "metadata": {
        "id": "-BJ8cfiy8nx0"
      },
      "source": [
        "# Create a list to store each poll estimate from different methods for Part C(2)\n",
        "all_estimates_list = []"
      ],
      "execution_count": 10,
      "outputs": []
    },
    {
      "cell_type": "code",
      "metadata": {
        "id": "skbaCnw0MzVr",
        "colab": {
          "base_uri": "https://localhost:8080/"
        },
        "outputId": "f13318df-a2d2-4f96-ea60-7bd4de314763"
      },
      "source": [
        "# Ignore people who answered anything but \"Hillary Clinton\" or \"Donald Trump\n",
        "dfpoll = dfpoll[dfpoll.candidate.isin(['Hillary Clinton', 'Donald Trump'])]\n",
        "\n",
        "# Compute raw polling average\n",
        "raw_average = dfpoll['candidate'].value_counts(normalize = True)[\"Hillary Clinton\"]\n",
        "all_estimates_list.append(raw_average)\n",
        "raw_average"
      ],
      "execution_count": 11,
      "outputs": [
        {
          "output_type": "execute_result",
          "data": {
            "text/plain": [
              "0.5458333333333333"
            ]
          },
          "metadata": {},
          "execution_count": 11
        }
      ]
    },
    {
      "cell_type": "markdown",
      "metadata": {
        "id": "ZdVo1JbVMzVs"
      },
      "source": [
        "### 2) Single dimensional marginal weighting (on just 1 demographic type)"
      ]
    },
    {
      "cell_type": "markdown",
      "metadata": {
        "id": "y2bMTjuqMzVs"
      },
      "source": [
        "<font color='blue'> For each demographic type separately -- age, gender, party, race, and education -- weight the poll by just that demographic type, in accordance to the population proportions given. Report the resulting poll results, and briefly (at most 3 sentences) describe what you observe.\n",
        "\n",
        "<font color='blue'> You'll notice that some of the groups in the polling data (\"refused\") do not show up in the population percentages. For now, we'll ignore those respondents."
      ]
    },
    {
      "cell_type": "markdown",
      "metadata": {
        "id": "eYcAqkS_MzVs"
      },
      "source": [
        "The polling result weighted by \"party\" is lower than the raw polling average by almost 5% and leaning towards Trump. Since Republicans are under-represented in this poll, we can see that the raw average over-estimates the percentage of people supporting Hillary Clinton."
      ]
    },
    {
      "cell_type": "code",
      "metadata": {
        "id": "IUagOPBMMzVs"
      },
      "source": [
        "# Create a binary column indicating if the person voted for Hillary\n",
        "dfpoll['voted_for_hillary'] = (dfpoll['candidate'] == \"Hillary Clinton\").astype(int)"
      ],
      "execution_count": 12,
      "outputs": []
    },
    {
      "cell_type": "code",
      "metadata": {
        "id": "cE2eruaxMzVs"
      },
      "source": [
        "def get_weighted_average(proportion_var, candidate_var, group1, group2=None):\n",
        "    dfdemographic_type1 = dfdemographic[dfdemographic['Demographic_Type_2'].isna()]\n",
        "    dfdemographic_type2 = dfdemographic[dfdemographic['Demographic_Type_2'].notna()]\n",
        "    if group2 is None:\n",
        "        mean = dfpoll.groupby(group1).mean()[candidate_var]\n",
        "        weight = dfdemographic_type1[dfdemographic_type1['Demographic_Type_1'] == group1].set_index('Demographic_1')[proportion_var]\n",
        "    else:\n",
        "        mean = dfpoll.groupby([group1, group2]).mean()[candidate_var]\n",
        "        weight = dfdemographic_type2[((dfdemographic_type2['Demographic_Type_1'] == group1)&(dfdemographic_type2['Demographic_Type_2'] == group2))].set_index(['Demographic_1', 'Demographic_2'])[proportion_var]\n",
        "        weight.index.names = [group1, group2]\n",
        "    df = mean.to_frame().join(weight)\n",
        "    return (df[candidate_var] * df[proportion_var]).sum()"
      ],
      "execution_count": 13,
      "outputs": []
    },
    {
      "cell_type": "code",
      "metadata": {
        "id": "MU2BxReUMzVs",
        "colab": {
          "base_uri": "https://localhost:8080/"
        },
        "outputId": "2183f437-1d04-407c-a869-1fbad0cdea69"
      },
      "source": [
        "for type1 in ['age', 'gender', 'party', 'race', 'education']:\n",
        "    weighted_average = get_weighted_average('Electoral_Proportion', 'voted_for_hillary', type1)\n",
        "    all_estimates_list.append(weighted_average)\n",
        "    print(f\"\"\"Weighted polling average by {type1}: {weighted_average:.6f}\n",
        "          - difference from raw average: {weighted_average - raw_average:.4f}\"\"\")"
      ],
      "execution_count": 14,
      "outputs": [
        {
          "output_type": "stream",
          "name": "stdout",
          "text": [
            "Weighted polling average by age: 0.530542\n",
            "          - difference from raw average: -0.0153\n",
            "Weighted polling average by gender: 0.549823\n",
            "          - difference from raw average: 0.0040\n",
            "Weighted polling average by party: 0.498720\n",
            "          - difference from raw average: -0.0471\n",
            "Weighted polling average by race: 0.530486\n",
            "          - difference from raw average: -0.0153\n",
            "Weighted polling average by education: 0.544059\n",
            "          - difference from raw average: -0.0018\n"
          ]
        }
      ]
    },
    {
      "cell_type": "markdown",
      "metadata": {
        "id": "BxWTz0lNMzVt"
      },
      "source": [
        "### 2-dimensional joint distribution weighting"
      ]
    },
    {
      "cell_type": "markdown",
      "metadata": {
        "id": "TX6dNpCKMzVt"
      },
      "source": [
        "<font color='blue'>Now, for each pair of demographic types in dfdemographic, do the same -- weight the poll by that pair of demographic types, in accordance to the given joint distributions, and briefly (at most 3 sentences) describe what you observe"
      ]
    },
    {
      "cell_type": "markdown",
      "metadata": {
        "id": "HM8dxmTXMzVt"
      },
      "source": [
        "In all pairs of the demographic groups except for (gender, education), the weighted polling average are lower than the raw average, indicating that the polls have biased towards Clinton. The polling average weighted by (party, age) and (party, education) have flipped to Trump-leaning."
      ]
    },
    {
      "cell_type": "code",
      "metadata": {
        "id": "R5Rt46VrMzVt",
        "colab": {
          "base_uri": "https://localhost:8080/"
        },
        "outputId": "65404045-bbe9-4ee4-ee2f-6d0a4baf7f42"
      },
      "source": [
        "# get all combinations for Type 1 and Type 2 demographics\n",
        "dfdemographic_types = dfdemographic[['Demographic_Type_1', 'Demographic_Type_2']].dropna().drop_duplicates()\n",
        "\n",
        "for (type1, type2) in zip(dfdemographic_types['Demographic_Type_1'], dfdemographic_types['Demographic_Type_2']):\n",
        "    weighted_average = get_weighted_average('Electoral_Proportion', 'voted_for_hillary', type1, type2)\n",
        "    all_estimates_list.append(weighted_average)\n",
        "    print(f\"\"\"Weighted polling average by ({type1}, {type2}): {weighted_average:.6f}\n",
        "          - difference from raw average: {weighted_average - raw_average:.4f}\"\"\")"
      ],
      "execution_count": 15,
      "outputs": [
        {
          "output_type": "stream",
          "name": "stdout",
          "text": [
            "Weighted polling average by (party, gender): 0.502921\n",
            "          - difference from raw average: -0.0429\n",
            "Weighted polling average by (party, age): 0.497992\n",
            "          - difference from raw average: -0.0478\n",
            "Weighted polling average by (party, race): 0.501144\n",
            "          - difference from raw average: -0.0447\n",
            "Weighted polling average by (party, education): 0.493501\n",
            "          - difference from raw average: -0.0523\n",
            "Weighted polling average by (gender, age): 0.533289\n",
            "          - difference from raw average: -0.0125\n",
            "Weighted polling average by (gender, race): 0.534816\n",
            "          - difference from raw average: -0.0110\n",
            "Weighted polling average by (gender, education): 0.547578\n",
            "          - difference from raw average: 0.0017\n",
            "Weighted polling average by (age, race): 0.524516\n",
            "          - difference from raw average: -0.0213\n",
            "Weighted polling average by (age, education): 0.525483\n",
            "          - difference from raw average: -0.0204\n",
            "Weighted polling average by (race, education): 0.514272\n",
            "          - difference from raw average: -0.0316\n"
          ]
        }
      ]
    },
    {
      "cell_type": "markdown",
      "metadata": {
        "id": "mbDahckmMzVt"
      },
      "source": [
        "### 3) 2-dimensional marginal "
      ]
    },
    {
      "cell_type": "markdown",
      "metadata": {
        "ExecuteTime": {
          "end_time": "2021-09-01T18:25:18.040978Z",
          "start_time": "2021-09-01T18:25:18.016981Z"
        },
        "id": "etrH_qyXMzVt"
      },
      "source": [
        "<font color='blue'> We don't always have access to joint distributions across the population -- for example, it may be hard to estimate from past exit polls (surveys done as people are leaving the polling station) what the joint distribution of education and gender is, for example. However, access to marginal distributions are often available. \n",
        "\n",
        "<font color='blue'> As discussed in class, one strategy when you don't have access to joint distributions -- only marginals -- is to _multiply_ the marginal distributions. For example, if 50% of your population is Democratic and 50% is a woman, then pretend that 50% times 50% = 25% of your population is a Democratic women. Clearly this technique is not perfect, but it is sometimes a useful heuristic.   \n",
        "\n",
        "<font color='blue'> For the following pairs of Demographic types, report the weighting results if you use the joint distributions in dfdemographic versus if you approximate the joint distribution using the marginals. Briefly (at most 3 sentences) describe what you observe.\n",
        "\n",
        "<font color='blue'> (party, gender)\n",
        "\n",
        "<font color='blue'> (race, gender)"
      ]
    },
    {
      "cell_type": "markdown",
      "metadata": {
        "id": "y-AM4QuYmZtZ"
      },
      "source": [
        "The polling results using 2-dimensional marginal weighting are not so different from that from 2-dimensional joint distribution weighting. This indicates that 2-dimensional marginal approach is a good proxy to estimate joint distributions across the population when this piece of data is unavailable."
      ]
    },
    {
      "cell_type": "code",
      "metadata": {
        "id": "x7JRSKKzNtnD"
      },
      "source": [
        "# Calculate 2-dim marginal joint proportion\n",
        "dfdemographic_type1_dict = {(type1, group1):proportion for (type1, group1, proportion) in zip(dfdemographic_type1['Demographic_Type_1'], dfdemographic_type1['Demographic_1'], dfdemographic_type1['Electoral_Proportion'])}\n",
        "dfdemographic['Marginal_Joint_Proportion'] = dfdemographic.apply(lambda row: \n",
        "                          dfdemographic_type1_dict[(row['Demographic_Type_1'],row['Demographic_1'])] * dfdemographic_type1_dict[(row['Demographic_Type_2'],row['Demographic_2'])]\n",
        "                          if type(row['Demographic_Type_2']) == str\n",
        "                          else np.nan , axis=1)"
      ],
      "execution_count": 16,
      "outputs": []
    },
    {
      "cell_type": "code",
      "metadata": {
        "id": "Tluw-oIhPnYv",
        "colab": {
          "base_uri": "https://localhost:8080/"
        },
        "outputId": "95dceac8-490c-4767-ab21-7f1ab0613f79"
      },
      "source": [
        "for (type1, type2) in [('party', 'gender'), ('gender', 'race')]:\n",
        "    weighted_average_joint = get_weighted_average('Electoral_Proportion', 'voted_for_hillary', type1, type2)\n",
        "    weighted_average_marginal = get_weighted_average('Marginal_Joint_Proportion', 'voted_for_hillary', type1, type2)\n",
        "    all_estimates_list.append(weighted_average_marginal)\n",
        "    print(f\"\"\"Weighted polling average by ({type1}, {type2}): {weighted_average_marginal:.6f}\n",
        "    - difference from raw average: {weighted_average_marginal - raw_average:.4f}\n",
        "    - difference from joint distribution weighting: {weighted_average_marginal - weighted_average_joint:.6f}\"\"\")"
      ],
      "execution_count": 17,
      "outputs": [
        {
          "output_type": "stream",
          "name": "stdout",
          "text": [
            "Weighted polling average by (party, gender): 0.503802\n",
            "    - difference from raw average: -0.0420\n",
            "    - difference from joint distribution weighting: 0.000881\n",
            "Weighted polling average by (gender, race): 0.534844\n",
            "    - difference from raw average: -0.0110\n",
            "    - difference from joint distribution weighting: 0.000029\n"
          ]
        }
      ]
    },
    {
      "cell_type": "markdown",
      "metadata": {
        "id": "ZLkC1tPQMzVt"
      },
      "source": [
        "### 4) Bonus points (up to 6 points): Implement a \"cheap\" version of the MRP technique mentioned in class.\n",
        "\n",
        "<font color='blue'> The above techniques use the mean answer among people who share a demographic as the estimate for that demographic. But that wastes information _across_ demographics. For example, maybe people who only have \"Some College\" are similar enough to people who have \"High School\" as to provide some useful information. \n",
        "\n",
        "<font color='blue'>  First, do the following: use a logistic regression (or your favorite prediction tool) to predict candidate choice, using the demographics. You might want to convert some demographics (like education) to ordered numeric (e.g., 1, 2, 3) as opposed to using discrete categories. \n",
        "\n",
        "<font color='blue'>  Here, you will earn partial bonus points by just reporting the predictions and comparing them to the means of each covariate group in the raw polling data. Give a scatter-plot, where each point is one combination of full demographics (age, gender, party, race/ethnicity, education), the X axis is the raw polling average for that combination, and the Y axis is your regression prediction for that combination.   \n",
        "\n",
        "<font color='blue'>  Then, once you have predictions for each set of covariates, \"post-stratify\" to get a single population estimate by plugging them into the above weighting techniques, where you use the predictions instead of the raw averages in that cell. Report the resulting estimates if you do the 2-dimensional joint weighting (on every pair).\n",
        "\n"
      ]
    },
    {
      "cell_type": "code",
      "metadata": {
        "id": "nuuyL-edDH4b"
      },
      "source": [
        "from sklearn.linear_model import LogisticRegression"
      ],
      "execution_count": 18,
      "outputs": []
    },
    {
      "cell_type": "code",
      "metadata": {
        "id": "0CzI0AHcMzVu"
      },
      "source": [
        "# Data pre-processing before logistic regression\n",
        "### Binary variable: gender\n",
        "### Ordinal variables: age, education (assume NAs are High School)\n",
        "### Categorical variables: race, party (one-hot encoding)\n",
        "dfpoll_encoded = dfpoll.drop(columns=['candidate'])\n",
        "gender_map = {'Male': 0, 'Female': 1}\n",
        "age_map = {'18-29': 0,  '30-44': 1,  '45-64':2,  '65+': 3}\n",
        "education_map = {np.nan: 0, 'High School': 0,  'Some College': 1,  'College':2}\n",
        "dfpoll_encoded.gender = dfpoll_encoded.gender.map(gender_map)\n",
        "dfpoll_encoded.age = dfpoll_encoded.age.map(age_map)\n",
        "dfpoll_encoded.education = dfpoll_encoded.education.map(education_map)\n",
        "dfpoll_encoded = pd.get_dummies(dfpoll_encoded)"
      ],
      "execution_count": 19,
      "outputs": []
    },
    {
      "cell_type": "code",
      "metadata": {
        "id": "jNdU6k-0-qm2",
        "colab": {
          "base_uri": "https://localhost:8080/"
        },
        "outputId": "a599c773-145f-4f87-8b83-8693a0b61153"
      },
      "source": [
        "# logistic regression model\n",
        "X = dfpoll_encoded.drop(columns=['voted_for_hillary'])\n",
        "y = dfpoll_encoded['voted_for_hillary'].values\n",
        "clf = LogisticRegression(random_state=0).fit(X, y)\n",
        "\n",
        "# prediction on the training set\n",
        "dfpoll['lr_predict_vote_for_hillary'] = clf.predict(X)\n",
        "print(f\"Prediction accuarcy: {clf.score(X, y):4f}\")"
      ],
      "execution_count": 20,
      "outputs": [
        {
          "output_type": "stream",
          "name": "stdout",
          "text": [
            "Prediction accuarcy: 0.856944\n"
          ]
        }
      ]
    },
    {
      "cell_type": "code",
      "metadata": {
        "id": "IM_50_xoHzdg",
        "colab": {
          "base_uri": "https://localhost:8080/"
        },
        "outputId": "fcd1a12c-2dea-4160-c30f-3da3dcb86632"
      },
      "source": [
        "# Reporting the predictions\n",
        "dfpoll['lr_predict_vote_for_hillary']"
      ],
      "execution_count": 21,
      "outputs": [
        {
          "output_type": "execute_result",
          "data": {
            "text/plain": [
              "1      0\n",
              "2      1\n",
              "3      1\n",
              "4      0\n",
              "5      1\n",
              "      ..\n",
              "861    0\n",
              "862    1\n",
              "863    0\n",
              "864    1\n",
              "866    1\n",
              "Name: lr_predict_vote_for_hillary, Length: 720, dtype: int64"
            ]
          },
          "metadata": {},
          "execution_count": 21
        }
      ]
    },
    {
      "cell_type": "code",
      "metadata": {
        "id": "9-66o7hkH8ZD",
        "colab": {
          "base_uri": "https://localhost:8080/",
          "height": 280
        },
        "outputId": "f1f315f4-a314-4081-bfaa-66d7b1a473a2"
      },
      "source": [
        "# Scatter plot: comparing predictions to the means of each covariate group in the raw polling data\n",
        "ax = dfpoll.groupby(['age', 'gender', 'party', 'race', 'education']).mean().plot.scatter('voted_for_hillary', 'lr_predict_vote_for_hillary', figsize=(4,4))"
      ],
      "execution_count": 22,
      "outputs": [
        {
          "output_type": "display_data",
          "data": {
            "image/png": "[encoded data removed]",
            "text/plain": [
              "<Figure size 288x288 with 1 Axes>"
            ]
          },
          "metadata": {
            "needs_background": "light"
          }
        }
      ]
    },
    {
      "cell_type": "code",
      "metadata": {
        "id": "awySDYTBGAlx",
        "colab": {
          "base_uri": "https://localhost:8080/"
        },
        "outputId": "304705b9-ef20-44a9-abca-ad17259ed461"
      },
      "source": [
        "for (type1, type2) in zip(dfdemographic_types['Demographic_Type_1'], dfdemographic_types['Demographic_Type_2']):\n",
        "    weighted_average = get_weighted_average('Electoral_Proportion', 'lr_predict_vote_for_hillary', type1, type2)\n",
        "    all_estimates_list.append(weighted_average)\n",
        "    print(f\"\"\"Weighted polling average by ({type1}, {type2}): {weighted_average:.6f}\n",
        "          - difference from raw average: {weighted_average - raw_average:.4f}\"\"\")"
      ],
      "execution_count": 23,
      "outputs": [
        {
          "output_type": "stream",
          "name": "stdout",
          "text": [
            "Weighted polling average by (party, gender): 0.485131\n",
            "          - difference from raw average: -0.0607\n",
            "Weighted polling average by (party, age): 0.475375\n",
            "          - difference from raw average: -0.0705\n",
            "Weighted polling average by (party, race): 0.486735\n",
            "          - difference from raw average: -0.0591\n",
            "Weighted polling average by (party, education): 0.475586\n",
            "          - difference from raw average: -0.0702\n",
            "Weighted polling average by (gender, age): 0.515977\n",
            "          - difference from raw average: -0.0299\n",
            "Weighted polling average by (gender, race): 0.507626\n",
            "          - difference from raw average: -0.0382\n",
            "Weighted polling average by (gender, education): 0.531166\n",
            "          - difference from raw average: -0.0147\n",
            "Weighted polling average by (age, race): 0.499190\n",
            "          - difference from raw average: -0.0466\n",
            "Weighted polling average by (age, education): 0.510037\n",
            "          - difference from raw average: -0.0358\n",
            "Weighted polling average by (race, education): 0.490351\n",
            "          - difference from raw average: -0.0555\n"
          ]
        }
      ]
    },
    {
      "cell_type": "markdown",
      "metadata": {
        "id": "D0sZVZn0MzVu"
      },
      "source": [
        "### 5) Bonus points (up to 3 points): Implement full \"raking\" using all the demographic covariates, i.e., match all the marginals without assuming independence, as opposed to just one or two marginal distributions.\n",
        "\n",
        "<font color='blue'> You may use existing python packages, such as [here](https://quantipy.readthedocs.io/en/staging-develop/sites/lib_doc/weights/01_background.html#the-statistical-problem). Another approach would be to use [rpy2](https://rpy2.github.io/doc/latest/html/introduction.html) to call `R`, as there are many well-maintained packages in `R` to analyze polling data. One example is [here](https://www.rdocumentation.org/packages/survey/versions/4.1-1/topics/rake). "
      ]
    },
    {
      "cell_type": "code",
      "metadata": {
        "id": "kJx1w4dsXie3"
      },
      "source": [
        ""
      ],
      "execution_count": 23,
      "outputs": []
    },
    {
      "cell_type": "markdown",
      "metadata": {
        "id": "JNBWc5a7MzVu"
      },
      "source": [
        "## Part C: Uncertainty analysis and choices"
      ]
    },
    {
      "cell_type": "markdown",
      "metadata": {
        "id": "mk1MNCoCMzVu"
      },
      "source": [
        "### 1) Education weighting analysis and \"refused\" answers"
      ]
    },
    {
      "cell_type": "markdown",
      "metadata": {
        "id": "0EhtxeZsMzVu"
      },
      "source": [
        "<font color='blue'> i. In Part B, you should notice a discrepancy from what we said in class and the data -- weighting by education does _not_ seem to help much in reducing the polling average from being pro-Clinton. Dig into the data to see why the methods we tried above might not be perfect, and what data you would want (such as demographic joint distribution) to do better. Discuss in 5 sentences or less. Especially convincing would be plots/calculations on what would happen under hypothetical data. \n",
        "\n",
        "<font color='blue'> Hint: Look at polling average broken up by just education, and then broken up by education and other covariates. Especially helpful may be the following pandas command:\n",
        "\n",
        "<font color='blue'> `dfpoll.groupby(['education', ...])['candidate'].value_counts(normalize = True)`\n",
        "\n",
        "<font color='blue'> where ... is replaced by other columns"
      ]
    },
    {
      "cell_type": "markdown",
      "metadata": {
        "id": "VB4kx1yZpD6E"
      },
      "source": [
        "There are 5 people in this poll that refused to answer their education level, and 3 out of the 5 also refused to answer their race. The polling results for people who refused to answer \"education\" showed that they are more Trump-leaning, so ignoring this population could lead to a bias towards Clinton when we perform weighting by education.\n",
        "\n",
        "It would be helpful to collect data of response rate (e.g., rate of picking up the phone for a poll) and refusal rate (e.g., rate of answering \"Refused\" after picking up the phone) for different education levels, in order to estimate the true distribution of the education demographics. It would also be helpful to collect a more granular education data other than just 3 levels: \"High School,\" \"College,\" and \"Some College.\""
      ]
    },
    {
      "cell_type": "code",
      "metadata": {
        "id": "jTxg29KZVjuf",
        "colab": {
          "base_uri": "https://localhost:8080/"
        },
        "outputId": "5b59acd8-915b-4ec3-af9c-2c196446ea44"
      },
      "source": [
        "refused_average = dfpoll.fillna('Refused').groupby('education')['candidate'].value_counts(normalize=True)['Refused']['Hillary Clinton']\n",
        "n = dfpoll.fillna('Refused').groupby('education').count().iloc[:, 0]['Refused']\n",
        "print(f\"Polling average for Group \\\"education-Refused\\\" (N={n}): {refused_average:.2f}\")"
      ],
      "execution_count": 24,
      "outputs": [
        {
          "output_type": "stream",
          "name": "stdout",
          "text": [
            "Polling average for Group \"education-Refused\" (N=5): 0.40\n"
          ]
        }
      ]
    },
    {
      "cell_type": "code",
      "metadata": {
        "id": "uyEOa2y5pHs7",
        "colab": {
          "base_uri": "https://localhost:8080/"
        },
        "outputId": "4034991f-b49e-4dbe-f79c-bed84b9c386f"
      },
      "source": [
        "refused_average = dfpoll.fillna('Refused').groupby(['education', 'race'])['candidate'].value_counts(normalize=True)[('Refused', 'Refused')]['Hillary Clinton']\n",
        "n = dfpoll.fillna('Refused').groupby(['education', 'race']).count().iloc[:, 0][('Refused', 'Refused')]\n",
        "print(f\"Polling average for Group \\\"(education-Refused, race-Refused)\\\" (N={n}): {refused_average:.2f}\")"
      ],
      "execution_count": 25,
      "outputs": [
        {
          "output_type": "stream",
          "name": "stdout",
          "text": [
            "Polling average for Group \"(education-Refused, race-Refused)\" (N=3): 0.33\n"
          ]
        }
      ]
    },
    {
      "cell_type": "markdown",
      "metadata": {
        "id": "aYup3QDEMzVu"
      },
      "source": [
        "<font color='blue'> ii. You'll notice that there are many responses with \"refused,\" and that those people in particular are Trump-leaning. The weighting techniques we used above would ignore these people. How would you adjust your procedures/estimates above to take them into account? Especially convincing would be plots/calculations on what would happen under hypothetical data. Answer in at most 3 sentences."
      ]
    },
    {
      "cell_type": "markdown",
      "metadata": {
        "id": "wB5XdPi86mTE"
      },
      "source": [
        "From the scatter plot, we know that the poll under-represents the groups \"White,\" \"High School,\" and \"Republican.\" Suppose that they still participated in the poll but chose to answer \"Refused.\" If we plug in this assumption for single-dimensional marginal weighting and 2-dimensional joint distribution weighting, we could slightly pull down the polling average for voting Clinton further more."
      ]
    },
    {
      "cell_type": "code",
      "metadata": {
        "id": "SnCa3ukjs6GX",
        "colab": {
          "base_uri": "https://localhost:8080/"
        },
        "outputId": "5f81760c-0c11-475e-eb53-575445515e1c"
      },
      "source": [
        "dfdemographic_type1 = dfdemographic[dfdemographic['Demographic_Type_2'].isna()]\n",
        "mean = dfpoll.fillna({'education': 'High School'}).groupby('education').mean().loc[:, 'voted_for_hillary']\n",
        "weight = dfdemographic_type1[dfdemographic_type1['Demographic_Type_1'] == 'education'].set_index('Demographic_1')['Electoral_Proportion']\n",
        "df = mean.to_frame().join(weight)\n",
        "weighted_average = (df['voted_for_hillary'] * df['Electoral_Proportion']).sum()\n",
        "print(f\"\"\"If assuming all \\\"education-Refused\\\" are \\\"education-High School\\\",\n",
        "Weighted polling average by education: {weighted_average:.6f}\n",
        "      - difference from raw average: {weighted_average - raw_average:.4f}\n",
        "      - difference from ignoring \\\"Refused\\\" in single-dim marginal weighting: {weighted_average - get_weighted_average('Electoral_Proportion', 'voted_for_hillary', 'education'):.4f}\"\"\")"
      ],
      "execution_count": 26,
      "outputs": [
        {
          "output_type": "stream",
          "name": "stdout",
          "text": [
            "If assuming all \"education-Refused\" are \"education-High School\",\n",
            "Weighted polling average by education: 0.542395\n",
            "      - difference from raw average: -0.0034\n",
            "      - difference from ignoring \"Refused\" in single-dim marginal weighting: -0.0017\n"
          ]
        }
      ]
    },
    {
      "cell_type": "code",
      "metadata": {
        "id": "YGLRldRRziPH",
        "colab": {
          "base_uri": "https://localhost:8080/"
        },
        "outputId": "af4a63d0-18d6-4f94-fad2-2d2f644ae47c"
      },
      "source": [
        "dfdemographic_type2 = dfdemographic[dfdemographic['Demographic_Type_2'].notna()]\n",
        "mean = dfpoll.fillna({'education':'High School', 'race': 'White'}).groupby(['race', 'education']).mean().loc[:, 'voted_for_hillary']\n",
        "weight = dfdemographic_type2[((dfdemographic_type2['Demographic_Type_1'] == 'race')&(dfdemographic_type2['Demographic_Type_2'] == 'education'))].set_index(['Demographic_1', 'Demographic_2'])['Electoral_Proportion']\n",
        "weight.index.names = ['race', 'education']\n",
        "df = mean.to_frame().join(weight)\n",
        "weighted_average = (df['voted_for_hillary'] * df['Electoral_Proportion']).sum()\n",
        "print(f\"\"\"If assuming all \\\"education-Refused\\\" are \\\"education-High School\\\" and all \\\"race-Refused\\\" are \\\"race-White\\\",\n",
        "Weighted polling average by (race, education): {weighted_average:.6f}\n",
        "      - difference from raw average: {weighted_average - raw_average:.4f}\n",
        "      - difference from ignoring \\\"Refused\\\" in 2-dim joint distribution weighting: {weighted_average - get_weighted_average('Electoral_Proportion', 'voted_for_hillary', 'race', 'education'):.4f}\"\"\")"
      ],
      "execution_count": 27,
      "outputs": [
        {
          "output_type": "stream",
          "name": "stdout",
          "text": [
            "If assuming all \"education-Refused\" are \"education-High School\" and all \"race-Refused\" are \"race-White\",\n",
            "Weighted polling average by (race, education): 0.513139\n",
            "      - difference from raw average: -0.0327\n",
            "      - difference from ignoring \"Refused\" in 2-dim joint distribution weighting: -0.0011\n"
          ]
        }
      ]
    },
    {
      "cell_type": "markdown",
      "metadata": {
        "id": "fAlU7laGMzVv"
      },
      "source": [
        "<font color='blue'> None of the above techniques deal with selection biases/non-response on _un-measured_ covariates. Do you think that may be an important concern in this dataset? Why or why not? Respond in 3 or fewer sentences."
      ]
    },
    {
      "cell_type": "markdown",
      "metadata": {
        "id": "MjEEYnc18d0z"
      },
      "source": [
        "Yes, there are still problems with non-repsonse on un-measured covariates such as social trust, civic engagement, and lifestyles. Response rate can also vary due to how this poll is conducted, e.g., at what time in the day, when in the election, and technology/channel used. Though most of our weighted polling results were above 0.5 (suggesting Clinton winning), that is not the case in reality: Clinton, with 47.8% of the vote, lost 1.2% to Trump in the 2016 presidential election in Florida. "
      ]
    },
    {
      "cell_type": "markdown",
      "metadata": {
        "id": "R1z3fZE8MzVv"
      },
      "source": [
        "### 2) Final estimates"
      ]
    },
    {
      "cell_type": "markdown",
      "metadata": {
        "id": "OG4G35rPMzVv"
      },
      "source": [
        "<font color='blue'> Throughout this homework, you made many estimates of the same quantity -- the fraction of people who will vote for Clinton in Florida. Below, plot a histogram of all your estimates."
      ]
    },
    {
      "cell_type": "code",
      "metadata": {
        "id": "zqrwbrrBMzVv",
        "colab": {
          "base_uri": "https://localhost:8080/",
          "height": 312
        },
        "outputId": "42f273b7-c51c-4a5e-8ff5-444d29588f1f"
      },
      "source": [
        "import matplotlib.pyplot as plt\n",
        "\n",
        "plt.hist(all_estimates_list)\n",
        "plt.xlabel('Polling Average Estimate')\n",
        "plt.ylabel('Count')\n",
        "plt.title(\"Histogram of all polling average estimates\")"
      ],
      "execution_count": 28,
      "outputs": [
        {
          "output_type": "execute_result",
          "data": {
            "text/plain": [
              "Text(0.5, 1.0, 'Histogram of all polling average estimates')"
            ]
          },
          "metadata": {},
          "execution_count": 28
        },
        {
          "output_type": "display_data",
          "data": {
            "image/png": "[encoded data removed]",
            "text/plain": [
              "<Figure size 432x288 with 1 Axes>"
            ]
          },
          "metadata": {
            "needs_background": "light"
          }
        }
      ]
    },
    {
      "cell_type": "markdown",
      "metadata": {
        "id": "nf9Ywl-zMzVv"
      },
      "source": [
        "<font color='blue'> Given all your above analysis, if you were a pollster what would you report as your single estimate? "
      ]
    },
    {
      "cell_type": "code",
      "metadata": {
        "id": "-j5192B3MzVw",
        "colab": {
          "base_uri": "https://localhost:8080/"
        },
        "outputId": "148bb59b-1cc2-44ba-f848-10caa6d88965"
      },
      "source": [
        "# Averaging the polling results weighted by the joint distribution of\n",
        "# (party, gender), (party, age), (party, race), (party, education)\n",
        "\n",
        "np.mean(all_estimates_list[6:10])"
      ],
      "execution_count": 29,
      "outputs": [
        {
          "output_type": "execute_result",
          "data": {
            "text/plain": [
              "0.4988897502828247"
            ]
          },
          "metadata": {},
          "execution_count": 29
        }
      ]
    },
    {
      "cell_type": "markdown",
      "metadata": {
        "id": "oaAaanp9MzVw"
      },
      "source": [
        "<font color='blue'> Justify your choice, in at most 3 sentences"
      ]
    },
    {
      "cell_type": "markdown",
      "metadata": {
        "id": "ZDLSCGBwbdfw"
      },
      "source": [
        "Since I hold the joint distribution of two demographics in my voter estimates data, I consider the results from 2-dimensional joint distribution weighting more trust-worthy than the raw average, the single dimensional marginal weighting, and the 2-dimensional marginal weighting. \n",
        "\n",
        "With only 720 data points and a 85.7% prediction accuracy on the training set for my logistic regression model, I neglected the MRP results too. \n",
        "\n",
        "Finally, among all 10 pairs of demographics, I considered only the 4 demographic pairs that includes \"party\" since I consider partisanship a more important factor that influences candidate choice than other demographic types such as gender or age."
      ]
    },
    {
      "cell_type": "markdown",
      "metadata": {
        "id": "2ulhujFTMzVw"
      },
      "source": [
        "<font color='blue'> Though we did not discuss how to calculate margin of error or standard errors with weighting in this course, what would you say if someone asked you how confident you are in your estimate? You may either qualitatively answer, or try to come up with a margin of error.  "
      ]
    },
    {
      "cell_type": "markdown",
      "metadata": {
        "id": "BrKyPCECeUXC"
      },
      "source": [
        "First, I can report the sample size of my poll, which is 720 people in this case.\n",
        "\n",
        "Next, the histogram provided us with a qualitative measurement of margin of error: I could try $n$ common weighting techniques and report the mean and standard deviation of all my estimates.\n",
        "\n",
        "\n",
        "\n",
        "\n"
      ]
    }
  ]
}